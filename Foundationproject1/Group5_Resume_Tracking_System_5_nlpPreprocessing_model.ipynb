{
 "cells": [
  {
   "cell_type": "markdown",
   "metadata": {},
   "source": [
    "# Group5_Resume_Tracking_System\n",
    "\n",
    "\n",
    "#### Anand Pratap Singh (12020084)\n",
    "#### Francis David Vuppuluri (12020028)\n",
    "#### Lavanya SN (12020075)\n",
    "#### Puneet Srivastava (12020026)\n",
    "#### Sangeeta Thakur (12020088)"
   ]
  },
  {
   "cell_type": "code",
   "execution_count": 66,
   "metadata": {},
   "outputs": [],
   "source": [
    "import pandas as pd\n",
    "from sklearn.feature_extraction.text import TfidfVectorizer\n",
    "from sklearn.decomposition import TruncatedSVD\n",
    "import utils.simplifiedSkillList\n",
    "import re\n",
    "import matplotlib.pyplot as plt\n",
    "import seaborn as sns\n",
    "import numpy as np\n",
    "\n",
    "#read test data\n",
    "df = pd.read_csv('./data/PreNLPData.tsv', sep='\\t')\n",
    "\n",
    "# remove garbage data\n",
    "df = df[df['Skillset'] != '[]']\n",
    "df = df[df['Salary'] != 1]\n",
    "\n",
    "# reset index\n",
    "df = df.reset_index().drop('index', axis = 1)"
   ]
  },
  {
   "cell_type": "code",
   "execution_count": null,
   "metadata": {},
   "outputs": [],
   "source": [
    "# initialize a dict that keeps a track of all skills replaced and by which word\n",
    "trackingDict = dict()\n",
    "\n",
    "# function that replaces the matched skill with the term we want to replace,\n",
    "# essentially a simplified representation of that skill\n",
    "def simplifySkillset(skillstring, searchstring, replacestring):\n",
    "    tempList = list()\n",
    "    skillList = skillstring.replace('[','').replace(']','').replace(\"'\",\"\").split(', ')\n",
    "    for skill in skillList:\n",
    "        skill = re.sub('[^A-Za-z ]+', '', skill) # remove special characters\n",
    "        skill = skill.replace('management', '').strip() # replace the word  \"management\"\n",
    "        skill = \" \".join(skill.split()) # remove any extra spaces\n",
    "        if skill.strip() != \"\":\n",
    "            if searchstring in skill.lower().strip():\n",
    "                tempList.append(replacestring) # replace if the search string is found\n",
    "                trackingDict[skill.lower().strip()] = replacestring # append to the tracker dictionary\n",
    "            else:\n",
    "                tempList.append(skill.lower().strip()) # keep the original skill\n",
    "\n",
    "    return \", \".join(tempList)\n",
    "\n",
    "\n",
    "# get the list of skills from a reference file present in utils folder\n",
    "replaceList = utils.simplifiedSkillList.replaceList\n",
    "\n",
    "for i in replaceList:\n",
    "    search = i # search for the string\n",
    "    replace = i # replace the searched string by this\n",
    "    df['Skillset'] = df['Skillset'].map(lambda x: simplifySkillset(x, search, replace))"
   ]
  },
  {
   "cell_type": "code",
   "execution_count": 30,
   "metadata": {},
   "outputs": [
    {
     "data": {
      "text/plain": [
       "0        True\n",
       "1        True\n",
       "2        True\n",
       "3        True\n",
       "4        True\n",
       "         ... \n",
       "25709    True\n",
       "25710    True\n",
       "25711    True\n",
       "25712    True\n",
       "25713    True\n",
       "Name: Skillset, Length: 25714, dtype: bool"
      ]
     },
     "execution_count": 30,
     "metadata": {},
     "output_type": "execute_result"
    }
   ],
   "source": [
    "# initialize a list to keep a track of comma seperated tokens(skills) to be used to calculate TF-IDF scores\n",
    "tokenized_list_of_sentences = list()\n",
    "\n",
    "# function for tokenization\n",
    "def createTokenizedListOfSentences(skillString):\n",
    "    tokenized_list_of_sentences.append([skill.strip() for skill in skillString.split(', ')])\n",
    "    return True\n",
    "\n",
    "df['Skillset'].map(lambda x: createTokenizedListOfSentences(x))"
   ]
  },
  {
   "cell_type": "code",
   "execution_count": 31,
   "metadata": {},
   "outputs": [
    {
     "name": "stderr",
     "output_type": "stream",
     "text": [
      "/Library/Frameworks/Python.framework/Versions/3.8/lib/python3.8/site-packages/sklearn/feature_extraction/text.py:383: UserWarning: Your stop_words may be inconsistent with your preprocessing. Tokenizing the stop words generated tokens ['b', 'c', 'd', 'e', 'f', 'g', 'h', 'k', 'l', 'm', 'n', 'o', 'p', 'r', 's', 't', 'u', 'v', 'w', 'x', 'y'] not in stop_words.\n",
      "  warnings.warn('Your stop_words may be inconsistent with '\n"
     ]
    }
   ],
   "source": [
    "# as the skills are comma seperated, \n",
    "# I am passing comma seperated tokens, instead of complete documents\n",
    "def identity_tokenizer(text):\n",
    "    return text\n",
    "\n",
    "tfidf = TfidfVectorizer(tokenizer=identity_tokenizer,  \n",
    "                        max_features=1000, \n",
    "                        stop_words='english', \n",
    "                        lowercase=False)    \n",
    "\n",
    "# create a sparse matrix of top 1000 features on the skill tokens\n",
    "tfidf_matrix = tfidf.fit_transform(tokenized_list_of_sentences)"
   ]
  },
  {
   "cell_type": "code",
   "execution_count": 32,
   "metadata": {},
   "outputs": [],
   "source": [
    "# let's put the tfidf in a dataframe and see how it looks\n",
    "tfidfDf = pd.DataFrame(tfidf_matrix.toarray(), columns = tfidf.get_feature_names())"
   ]
  },
  {
   "cell_type": "code",
   "execution_count": 11,
   "metadata": {},
   "outputs": [
    {
     "data": {
      "text/html": [
       "<div>\n",
       "<style scoped>\n",
       "    .dataframe tbody tr th:only-of-type {\n",
       "        vertical-align: middle;\n",
       "    }\n",
       "\n",
       "    .dataframe tbody tr th {\n",
       "        vertical-align: top;\n",
       "    }\n",
       "\n",
       "    .dataframe thead th {\n",
       "        text-align: right;\n",
       "    }\n",
       "</style>\n",
       "<table border=\"1\" class=\"dataframe\">\n",
       "  <thead>\n",
       "    <tr style=\"text-align: right;\">\n",
       "      <th></th>\n",
       "      <th>acad</th>\n",
       "      <th>accenture</th>\n",
       "      <th>access</th>\n",
       "      <th>accessibility</th>\n",
       "      <th>account</th>\n",
       "      <th>active directory</th>\n",
       "      <th>ad</th>\n",
       "      <th>adc</th>\n",
       "      <th>adls</th>\n",
       "      <th>admin</th>\n",
       "      <th>...</th>\n",
       "      <th>working drawings</th>\n",
       "      <th>wpf</th>\n",
       "      <th>writing skills</th>\n",
       "      <th>written</th>\n",
       "      <th>x</th>\n",
       "      <th>xml</th>\n",
       "      <th>yii</th>\n",
       "      <th>zen</th>\n",
       "      <th>zoho</th>\n",
       "      <th>zomato</th>\n",
       "    </tr>\n",
       "  </thead>\n",
       "  <tbody>\n",
       "    <tr>\n",
       "      <th>0</th>\n",
       "      <td>0.0</td>\n",
       "      <td>0.0</td>\n",
       "      <td>0.0</td>\n",
       "      <td>0.0</td>\n",
       "      <td>0.0</td>\n",
       "      <td>0.0</td>\n",
       "      <td>0.0</td>\n",
       "      <td>0.0</td>\n",
       "      <td>0.0</td>\n",
       "      <td>0.0</td>\n",
       "      <td>...</td>\n",
       "      <td>0.0</td>\n",
       "      <td>0.0</td>\n",
       "      <td>0.0</td>\n",
       "      <td>0.0</td>\n",
       "      <td>0.0</td>\n",
       "      <td>0.0</td>\n",
       "      <td>0.0</td>\n",
       "      <td>0.0</td>\n",
       "      <td>0.0</td>\n",
       "      <td>0.0</td>\n",
       "    </tr>\n",
       "    <tr>\n",
       "      <th>1</th>\n",
       "      <td>0.0</td>\n",
       "      <td>0.0</td>\n",
       "      <td>0.0</td>\n",
       "      <td>0.0</td>\n",
       "      <td>0.0</td>\n",
       "      <td>0.0</td>\n",
       "      <td>0.0</td>\n",
       "      <td>0.0</td>\n",
       "      <td>0.0</td>\n",
       "      <td>0.0</td>\n",
       "      <td>...</td>\n",
       "      <td>0.0</td>\n",
       "      <td>0.0</td>\n",
       "      <td>0.0</td>\n",
       "      <td>0.0</td>\n",
       "      <td>0.0</td>\n",
       "      <td>0.0</td>\n",
       "      <td>0.0</td>\n",
       "      <td>0.0</td>\n",
       "      <td>0.0</td>\n",
       "      <td>0.0</td>\n",
       "    </tr>\n",
       "    <tr>\n",
       "      <th>2</th>\n",
       "      <td>0.0</td>\n",
       "      <td>0.0</td>\n",
       "      <td>0.0</td>\n",
       "      <td>0.0</td>\n",
       "      <td>0.0</td>\n",
       "      <td>0.0</td>\n",
       "      <td>0.0</td>\n",
       "      <td>0.0</td>\n",
       "      <td>0.0</td>\n",
       "      <td>0.0</td>\n",
       "      <td>...</td>\n",
       "      <td>0.0</td>\n",
       "      <td>0.0</td>\n",
       "      <td>0.0</td>\n",
       "      <td>0.0</td>\n",
       "      <td>0.0</td>\n",
       "      <td>0.0</td>\n",
       "      <td>0.0</td>\n",
       "      <td>0.0</td>\n",
       "      <td>0.0</td>\n",
       "      <td>0.0</td>\n",
       "    </tr>\n",
       "    <tr>\n",
       "      <th>3</th>\n",
       "      <td>0.0</td>\n",
       "      <td>0.0</td>\n",
       "      <td>0.0</td>\n",
       "      <td>0.0</td>\n",
       "      <td>0.0</td>\n",
       "      <td>0.0</td>\n",
       "      <td>0.0</td>\n",
       "      <td>0.0</td>\n",
       "      <td>0.0</td>\n",
       "      <td>0.0</td>\n",
       "      <td>...</td>\n",
       "      <td>0.0</td>\n",
       "      <td>0.0</td>\n",
       "      <td>0.0</td>\n",
       "      <td>0.0</td>\n",
       "      <td>0.0</td>\n",
       "      <td>0.0</td>\n",
       "      <td>0.0</td>\n",
       "      <td>0.0</td>\n",
       "      <td>0.0</td>\n",
       "      <td>0.0</td>\n",
       "    </tr>\n",
       "    <tr>\n",
       "      <th>4</th>\n",
       "      <td>0.0</td>\n",
       "      <td>0.0</td>\n",
       "      <td>0.0</td>\n",
       "      <td>0.0</td>\n",
       "      <td>0.0</td>\n",
       "      <td>0.0</td>\n",
       "      <td>0.0</td>\n",
       "      <td>0.0</td>\n",
       "      <td>0.0</td>\n",
       "      <td>0.0</td>\n",
       "      <td>...</td>\n",
       "      <td>0.0</td>\n",
       "      <td>0.0</td>\n",
       "      <td>0.0</td>\n",
       "      <td>0.0</td>\n",
       "      <td>0.0</td>\n",
       "      <td>0.0</td>\n",
       "      <td>0.0</td>\n",
       "      <td>0.0</td>\n",
       "      <td>0.0</td>\n",
       "      <td>0.0</td>\n",
       "    </tr>\n",
       "  </tbody>\n",
       "</table>\n",
       "<p>5 rows × 1000 columns</p>\n",
       "</div>"
      ],
      "text/plain": [
       "   acad  accenture  access  accessibility  account  active directory   ad  \\\n",
       "0   0.0        0.0     0.0            0.0      0.0               0.0  0.0   \n",
       "1   0.0        0.0     0.0            0.0      0.0               0.0  0.0   \n",
       "2   0.0        0.0     0.0            0.0      0.0               0.0  0.0   \n",
       "3   0.0        0.0     0.0            0.0      0.0               0.0  0.0   \n",
       "4   0.0        0.0     0.0            0.0      0.0               0.0  0.0   \n",
       "\n",
       "   adc  adls  admin  ...  working drawings  wpf  writing skills  written    x  \\\n",
       "0  0.0   0.0    0.0  ...               0.0  0.0             0.0      0.0  0.0   \n",
       "1  0.0   0.0    0.0  ...               0.0  0.0             0.0      0.0  0.0   \n",
       "2  0.0   0.0    0.0  ...               0.0  0.0             0.0      0.0  0.0   \n",
       "3  0.0   0.0    0.0  ...               0.0  0.0             0.0      0.0  0.0   \n",
       "4  0.0   0.0    0.0  ...               0.0  0.0             0.0      0.0  0.0   \n",
       "\n",
       "   xml  yii  zen  zoho  zomato  \n",
       "0  0.0  0.0  0.0   0.0     0.0  \n",
       "1  0.0  0.0  0.0   0.0     0.0  \n",
       "2  0.0  0.0  0.0   0.0     0.0  \n",
       "3  0.0  0.0  0.0   0.0     0.0  \n",
       "4  0.0  0.0  0.0   0.0     0.0  \n",
       "\n",
       "[5 rows x 1000 columns]"
      ]
     },
     "execution_count": 11,
     "metadata": {},
     "output_type": "execute_result"
    }
   ],
   "source": [
    "tfidfDf.head()"
   ]
  },
  {
   "cell_type": "markdown",
   "metadata": {},
   "source": [
    "#####  Clearly the dataframe is heavily sparsed, but one can see how it is populated with TF-IDF values for different words in a document"
   ]
  },
  {
   "cell_type": "code",
   "execution_count": 33,
   "metadata": {},
   "outputs": [],
   "source": [
    "# Now we initialize an SVD of 300 components, \n",
    "# which basically decomposes the 1000 vectors in tf-idf dataframe to 300 vectors \n",
    "# that explains the a significant percentage of variance in data\n",
    "svdT = TruncatedSVD(n_components=300)\n",
    "svdTFit = svdT.fit(tfidf_matrix)"
   ]
  },
  {
   "cell_type": "code",
   "execution_count": 34,
   "metadata": {},
   "outputs": [
    {
     "data": {
      "text/plain": [
       "0.8698511308113908"
      ]
     },
     "execution_count": 34,
     "metadata": {},
     "output_type": "execute_result"
    }
   ],
   "source": [
    "# the following line shows the percentage of variance explained by 300 components \n",
    "# made out of 1000 features\n",
    "sum(svdTFit.explained_variance_)"
   ]
  },
  {
   "cell_type": "code",
   "execution_count": 35,
   "metadata": {},
   "outputs": [],
   "source": [
    "# create a dataframe that can be used for training a model\n",
    "finalDf = pd.DataFrame(svdTFit.transform(tfidf_matrix)) # 300 vectors\n",
    "finalDf['Experience'] = df['Experience'] # numerical value of experience\n",
    "\n",
    "# hot encoding of regions\n",
    "finalDf['North'] = df['Zone'].map(lambda x: 1 if 'north' in x else 0) \n",
    "finalDf['East'] = df['Zone'].map(lambda x: 1 if 'east' in x else 0) \n",
    "finalDf['West'] = df['Zone'].map(lambda x: 1 if 'west' in x else 0) \n",
    "finalDf['South'] = df['Zone'].map(lambda x: 1 if 'south' in x else 0) \n",
    "\n",
    "finalDf['Salary'] = df['Salary']/100000 # scaling of salary by converting the value \"in lakhs\""
   ]
  },
  {
   "cell_type": "code",
   "execution_count": 36,
   "metadata": {},
   "outputs": [
    {
     "data": {
      "text/plain": [
       "<AxesSubplot:>"
      ]
     },
     "execution_count": 36,
     "metadata": {},
     "output_type": "execute_result"
    },
    {
     "data": {
      "image/png": "[encoded data removed]",
      "text/plain": [
       "<Figure size 288x720 with 2 Axes>"
      ]
     },
     "metadata": {
      "needs_background": "light"
     },
     "output_type": "display_data"
    }
   ],
   "source": [
    "# let's have a look at the correlation between salary and other 305 columns\n",
    "x = finalDf.corr()[['Salary']] \n",
    "\n",
    "# let's visualize it\n",
    "plt.figure(figsize=(4,10))\n",
    "sns.heatmap(x.sort_values(by='Salary', ascending=False))       "
   ]
  },
  {
   "cell_type": "markdown",
   "metadata": {},
   "source": [
    "##### most of the features have low correlation, except for a few on the etreme ends"
   ]
  },
  {
   "cell_type": "code",
   "execution_count": 17,
   "metadata": {},
   "outputs": [],
   "source": [
    "finalDf.to_csv('./data/finalDf.csv', index=False)"
   ]
  },
  {
   "cell_type": "markdown",
   "metadata": {},
   "source": [
    "----------------------------------------------------------"
   ]
  },
  {
   "cell_type": "markdown",
   "metadata": {},
   "source": [
    "## Regression Model"
   ]
  },
  {
   "cell_type": "code",
   "execution_count": 37,
   "metadata": {},
   "outputs": [],
   "source": [
    "Data = finalDf"
   ]
  },
  {
   "cell_type": "code",
   "execution_count": 38,
   "metadata": {},
   "outputs": [
    {
     "data": {
      "text/plain": [
       "<AxesSubplot:>"
      ]
     },
     "execution_count": 38,
     "metadata": {},
     "output_type": "execute_result"
    },
    {
     "data": {
      "image/png": "[encoded data removed]",
      "text/plain": [
       "<Figure size 432x288 with 1 Axes>"
      ]
     },
     "metadata": {
      "needs_background": "light"
     },
     "output_type": "display_data"
    }
   ],
   "source": [
    "Data.Salary.hist()"
   ]
  },
  {
   "cell_type": "code",
   "execution_count": 59,
   "metadata": {},
   "outputs": [],
   "source": [
    "## Regression\n",
    "\n",
    "from sklearn.linear_model import LinearRegression\n",
    "from sklearn.model_selection import train_test_split\n",
    "from sklearn import metrics\n",
    "from sklearn.model_selection import cross_val_score\n",
    "\n",
    "# **Create X and y**\n",
    "y_col = \"Salary\"\n",
    "\n",
    "X = Data.drop(y_col, axis=1)\n",
    "y = Data[y_col]\n",
    "\n",
    "# **Train test split**\n",
    "X_train, X_test, y_train, y_test = train_test_split(X, \n",
    "                                                    y, \n",
    "                                                    test_size=0.2, \n",
    "                                                    random_state=72018)\n",
    "\n",
    "\n",
    "results_df = pd.DataFrame()\n",
    "columns = [\"Model\", \"Cross Val Score\", \"MAE\", \"MSE\", \"RMSE\", \"R2\"]\n",
    "\n",
    "# function that calculates different metrics\n",
    "def evaluate(true, predicted):\n",
    "    mae = metrics.mean_absolute_error(true, predicted)\n",
    "    mse = metrics.mean_squared_error(true, predicted)\n",
    "    rmse = np.sqrt(metrics.mean_squared_error(true, predicted))\n",
    "    r2_square = metrics.r2_score(true, predicted)\n",
    "    return mae, mse, rmse, r2_square\n",
    "\n",
    "# club the results togther\n",
    "def append_results(model_name, model, results_df, y_test, pred):\n",
    "    results_append_df = pd.DataFrame(data=[[model_name, \n",
    "                                            *evaluate(y_test, pred), \n",
    "                                            cross_val_score(model, X, y, cv=10).mean()]], \n",
    "                                     columns=columns)\n",
    "    \n",
    "    results_df = results_df.append(results_append_df, ignore_index = True)\n",
    "    return results_df\n",
    "\n",
    "\n",
    "# initializing a regression modela\n",
    "lin_reg = LinearRegression(normalize=True)\n",
    "# training\n",
    "lin_reg.fit(X_train,y_train)\n",
    "\n",
    "# prediction\n",
    "pred = lin_reg.predict(X_test)\n",
    "\n",
    "results_df = append_results(\"Linear Regression\",  LinearRegression(), results_df, y_test, pred)"
   ]
  },
  {
   "cell_type": "code",
   "execution_count": 60,
   "metadata": {},
   "outputs": [
    {
     "name": "stdout",
     "output_type": "stream",
     "text": [
      "               Model  Cross Val Score      MAE       MSE      RMSE        R2\n",
      "0  Linear Regression         1.394546  12.7896  3.576255  0.750325  0.780562\n"
     ]
    }
   ],
   "source": [
    "print(results_df)"
   ]
  },
  {
   "cell_type": "markdown",
   "metadata": {},
   "source": [
    "#### RMSE of 0.75 or 77000 rupees\n",
    "#### R2 of 0.78 indicates that 22% of the variability in the outcome data cannot be explained by the model"
   ]
  },
  {
   "cell_type": "markdown",
   "metadata": {},
   "source": [
    "### Just to see how our model has worked"
   ]
  },
  {
   "cell_type": "code",
   "execution_count": 61,
   "metadata": {},
   "outputs": [
    {
     "name": "stderr",
     "output_type": "stream",
     "text": [
      "<ipython-input-61-f707fe768b33>:9: SettingWithCopyWarning: \n",
      "A value is trying to be set on a copy of a slice from a DataFrame.\n",
      "Try using .loc[row_indexer,col_indexer] = value instead\n",
      "\n",
      "See the caveats in the documentation: https://pandas.pydata.org/pandas-docs/stable/user_guide/indexing.html#returning-a-view-versus-a-copy\n",
      "  actualTrainDf['Actual Salary'] = y_test\n",
      "<ipython-input-61-f707fe768b33>:10: SettingWithCopyWarning: \n",
      "A value is trying to be set on a copy of a slice from a DataFrame.\n",
      "Try using .loc[row_indexer,col_indexer] = value instead\n",
      "\n",
      "See the caveats in the documentation: https://pandas.pydata.org/pandas-docs/stable/user_guide/indexing.html#returning-a-view-versus-a-copy\n",
      "  actualTrainDf['Predicted Salary'] = pred\n"
     ]
    }
   ],
   "source": [
    "# read the actual training data\n",
    "trainDf = pd.read_csv('./data/SimplifiedTrainData.tsv', sep='\\t')\n",
    "\n",
    "# \n",
    "trainDf.drop(['Skillset', 'Salary'], axis=1, inplace = True)\n",
    "\n",
    "actualTrainDf = trainDf.iloc[X_test.index, :]\n",
    "\n",
    "actualTrainDf['Actual Salary'] = y_test\n",
    "actualTrainDf['Predicted Salary'] = pred"
   ]
  },
  {
   "cell_type": "code",
   "execution_count": 62,
   "metadata": {},
   "outputs": [
    {
     "data": {
      "text/html": [
       "<div>\n",
       "<style scoped>\n",
       "    .dataframe tbody tr th:only-of-type {\n",
       "        vertical-align: middle;\n",
       "    }\n",
       "\n",
       "    .dataframe tbody tr th {\n",
       "        vertical-align: top;\n",
       "    }\n",
       "\n",
       "    .dataframe thead th {\n",
       "        text-align: right;\n",
       "    }\n",
       "</style>\n",
       "<table border=\"1\" class=\"dataframe\">\n",
       "  <thead>\n",
       "    <tr style=\"text-align: right;\">\n",
       "      <th></th>\n",
       "      <th>Title</th>\n",
       "      <th>Company</th>\n",
       "      <th>Experience</th>\n",
       "      <th>Zone</th>\n",
       "      <th>Simplified Skillset</th>\n",
       "      <th>Actual Salary</th>\n",
       "      <th>Predicted Salary</th>\n",
       "    </tr>\n",
       "  </thead>\n",
       "  <tbody>\n",
       "    <tr>\n",
       "      <th>23555</th>\n",
       "      <td>SAP Data Migration Consultant - LOG</td>\n",
       "      <td>Atos Syntel</td>\n",
       "      <td>8.0</td>\n",
       "      <td>{'south', 'west'}</td>\n",
       "      <td>log, sap, app, quality, data migration, analyt...</td>\n",
       "      <td>12.0</td>\n",
       "      <td>17.533667</td>\n",
       "    </tr>\n",
       "    <tr>\n",
       "      <th>24339</th>\n",
       "      <td>Portfolio Manager/ Senior Sales Manager (T1)</td>\n",
       "      <td>Square Yards Consulting Private Limited</td>\n",
       "      <td>4.0</td>\n",
       "      <td>{'west'}</td>\n",
       "      <td>sales, bde, portfolio management, bdm, sales, ...</td>\n",
       "      <td>10.0</td>\n",
       "      <td>7.042393</td>\n",
       "    </tr>\n",
       "    <tr>\n",
       "      <th>4502</th>\n",
       "      <td>Russian Language - Read, Write &amp; Speak</td>\n",
       "      <td>GlobalLogic Technologies Limited</td>\n",
       "      <td>1.5</td>\n",
       "      <td>{'south', 'east', 'west', 'north'}</td>\n",
       "      <td>communication, written, russian, russian, russ...</td>\n",
       "      <td>3.0</td>\n",
       "      <td>2.999866</td>\n",
       "    </tr>\n",
       "    <tr>\n",
       "      <th>19973</th>\n",
       "      <td>Desktop Support Engineer</td>\n",
       "      <td>Steno House</td>\n",
       "      <td>4.5</td>\n",
       "      <td>{'north'}</td>\n",
       "      <td>NaN</td>\n",
       "      <td>6.5</td>\n",
       "      <td>9.657918</td>\n",
       "    </tr>\n",
       "    <tr>\n",
       "      <th>10630</th>\n",
       "      <td>Urgently looking For CPQ Technical Consultant</td>\n",
       "      <td>Virtusa Consulting Services Pvt Ltd</td>\n",
       "      <td>8.5</td>\n",
       "      <td>{'south', 'west'}</td>\n",
       "      <td>communication, java, soap, html, java, cpq, or...</td>\n",
       "      <td>18.0</td>\n",
       "      <td>17.975743</td>\n",
       "    </tr>\n",
       "  </tbody>\n",
       "</table>\n",
       "</div>"
      ],
      "text/plain": [
       "                                               Title  \\\n",
       "23555            SAP Data Migration Consultant - LOG   \n",
       "24339   Portfolio Manager/ Senior Sales Manager (T1)   \n",
       "4502          Russian Language - Read, Write & Speak   \n",
       "19973                       Desktop Support Engineer   \n",
       "10630  Urgently looking For CPQ Technical Consultant   \n",
       "\n",
       "                                       Company  Experience  \\\n",
       "23555                              Atos Syntel         8.0   \n",
       "24339  Square Yards Consulting Private Limited         4.0   \n",
       "4502          GlobalLogic Technologies Limited         1.5   \n",
       "19973                             Steno House          4.5   \n",
       "10630      Virtusa Consulting Services Pvt Ltd         8.5   \n",
       "\n",
       "                                     Zone  \\\n",
       "23555                   {'south', 'west'}   \n",
       "24339                            {'west'}   \n",
       "4502   {'south', 'east', 'west', 'north'}   \n",
       "19973                           {'north'}   \n",
       "10630                   {'south', 'west'}   \n",
       "\n",
       "                                     Simplified Skillset  Actual Salary  \\\n",
       "23555  log, sap, app, quality, data migration, analyt...           12.0   \n",
       "24339  sales, bde, portfolio management, bdm, sales, ...           10.0   \n",
       "4502   communication, written, russian, russian, russ...            3.0   \n",
       "19973                                                NaN            6.5   \n",
       "10630  communication, java, soap, html, java, cpq, or...           18.0   \n",
       "\n",
       "       Predicted Salary  \n",
       "23555         17.533667  \n",
       "24339          7.042393  \n",
       "4502           2.999866  \n",
       "19973          9.657918  \n",
       "10630         17.975743  "
      ]
     },
     "execution_count": 62,
     "metadata": {},
     "output_type": "execute_result"
    }
   ],
   "source": [
    "actualTrainDf.head()"
   ]
  },
  {
   "cell_type": "markdown",
   "metadata": {},
   "source": [
    "------------------------------------------------------"
   ]
  },
  {
   "cell_type": "markdown",
   "metadata": {},
   "source": [
    "## Test Data"
   ]
  },
  {
   "cell_type": "code",
   "execution_count": 63,
   "metadata": {},
   "outputs": [
    {
     "data": {
      "text/plain": [
       "0     True\n",
       "1     True\n",
       "2     True\n",
       "3     True\n",
       "4     True\n",
       "      ... \n",
       "79    True\n",
       "80    True\n",
       "81    True\n",
       "82    True\n",
       "83    True\n",
       "Name: Skillset, Length: 84, dtype: bool"
      ]
     },
     "execution_count": 63,
     "metadata": {},
     "output_type": "execute_result"
    }
   ],
   "source": [
    "testdf = pd.read_csv('./data/finalTestData.tsv', sep='\\t')\n",
    "\n",
    "testdf.rename(columns={'Top Skills': 'Skillset'}, inplace = True)\n",
    "\n",
    "testdf = testdf[~testdf['Skillset'].isna()]\n",
    "\n",
    "testdf = testdf.reset_index().drop('index', axis=1)\n",
    "\n",
    "trackingDict = dict()\n",
    "\n",
    "replaceList = utils.simplifiedSkillList.replaceList\n",
    "\n",
    "for i in replaceList:\n",
    "    search = i\n",
    "    replace = i\n",
    "    testdf['Skillset'] = testdf['Skillset'].map(lambda x: simplifySkillset(x, search, replace))\n",
    "\n",
    "tokenized_list_of_sentences = list()\n",
    "\n",
    "testdf['Skillset'].map(lambda x: createTokenizedListOfSentences(x))"
   ]
  },
  {
   "cell_type": "code",
   "execution_count": 64,
   "metadata": {},
   "outputs": [],
   "source": [
    "finalTestDf = pd.DataFrame(svdTFit.transform(tfidf.transform(tokenized_list_of_sentences)))\n",
    "finalTestDf['Experience'] = testdf['Experience']\n",
    "finalTestDf['North'] = testdf['Zone'].map(lambda x: 1 if 'north' in x else 0) \n",
    "finalTestDf['East'] = testdf['Zone'].map(lambda x: 1 if 'east' in x else 0) \n",
    "finalTestDf['West'] = testdf['Zone'].map(lambda x: 1 if 'west' in x else 0) \n",
    "finalTestDf['South'] = testdf['Zone'].map(lambda x: 1 if 'south' in x else 0) \n",
    "\n",
    "finalTestDf = finalTestDf[~finalTestDf['North'].isna()]\n",
    "\n",
    "testPredLR = lin_reg.predict(finalTestDf)\n",
    "\n",
    "testdf['Salary LR'] = testPredLR\n",
    "\n",
    "testdf.to_csv('./data/PredictSalaryEnriched.tsv', sep='\\t', index=False)"
   ]
  },
  {
   "cell_type": "code",
   "execution_count": 65,
   "metadata": {},
   "outputs": [
    {
     "data": {
      "text/html": [
       "<div>\n",
       "<style scoped>\n",
       "    .dataframe tbody tr th:only-of-type {\n",
       "        vertical-align: middle;\n",
       "    }\n",
       "\n",
       "    .dataframe tbody tr th {\n",
       "        vertical-align: top;\n",
       "    }\n",
       "\n",
       "    .dataframe thead th {\n",
       "        text-align: right;\n",
       "    }\n",
       "</style>\n",
       "<table border=\"1\" class=\"dataframe\">\n",
       "  <thead>\n",
       "    <tr style=\"text-align: right;\">\n",
       "      <th></th>\n",
       "      <th>Index</th>\n",
       "      <th>Skillset</th>\n",
       "      <th>Experience</th>\n",
       "      <th>Zone</th>\n",
       "      <th>Salary LR</th>\n",
       "    </tr>\n",
       "  </thead>\n",
       "  <tbody>\n",
       "    <tr>\n",
       "      <th>0</th>\n",
       "      <td>C1</td>\n",
       "      <td>human resources hr, microsoft, strategic plann...</td>\n",
       "      <td>1</td>\n",
       "      <td>{'west'}</td>\n",
       "      <td>8.140180</td>\n",
       "    </tr>\n",
       "    <tr>\n",
       "      <th>1</th>\n",
       "      <td>C2</td>\n",
       "      <td>market, vendor, strategic sourcing, product, b...</td>\n",
       "      <td>8</td>\n",
       "      <td>{'north'}</td>\n",
       "      <td>16.683021</td>\n",
       "    </tr>\n",
       "    <tr>\n",
       "      <th>2</th>\n",
       "      <td>C3</td>\n",
       "      <td>leadership, research, team, data analys, stati...</td>\n",
       "      <td>2</td>\n",
       "      <td>{'east', 'south'}</td>\n",
       "      <td>9.465278</td>\n",
       "    </tr>\n",
       "    <tr>\n",
       "      <th>3</th>\n",
       "      <td>C4</td>\n",
       "      <td>c, linux, microsoft, excel</td>\n",
       "      <td>8</td>\n",
       "      <td>{'north', 'east', 'west', 'south'}</td>\n",
       "      <td>20.766641</td>\n",
       "    </tr>\n",
       "    <tr>\n",
       "      <th>4</th>\n",
       "      <td>C5</td>\n",
       "      <td>excel, python, sql, project, analytics, model,...</td>\n",
       "      <td>1</td>\n",
       "      <td>{'north', 'east', 'west', 'south'}</td>\n",
       "      <td>11.952706</td>\n",
       "    </tr>\n",
       "    <tr>\n",
       "      <th>...</th>\n",
       "      <td>...</td>\n",
       "      <td>...</td>\n",
       "      <td>...</td>\n",
       "      <td>...</td>\n",
       "      <td>...</td>\n",
       "    </tr>\n",
       "    <tr>\n",
       "      <th>79</th>\n",
       "      <td>C88</td>\n",
       "      <td>dynamic, sme, interpersonal leadership, requir...</td>\n",
       "      <td>4</td>\n",
       "      <td>{'west'}</td>\n",
       "      <td>7.704403</td>\n",
       "    </tr>\n",
       "    <tr>\n",
       "      <th>80</th>\n",
       "      <td>C89</td>\n",
       "      <td>analytics, business, sas, analytics, data ware...</td>\n",
       "      <td>14</td>\n",
       "      <td>{'north'}</td>\n",
       "      <td>33.225480</td>\n",
       "    </tr>\n",
       "    <tr>\n",
       "      <th>81</th>\n",
       "      <td>C90</td>\n",
       "      <td>financ, team, business, financ, business, fina...</td>\n",
       "      <td>10</td>\n",
       "      <td>{'west'}</td>\n",
       "      <td>18.180636</td>\n",
       "    </tr>\n",
       "    <tr>\n",
       "      <th>82</th>\n",
       "      <td>C91</td>\n",
       "      <td>data analys, data analys, python, project, hum...</td>\n",
       "      <td>11</td>\n",
       "      <td>{'south'}</td>\n",
       "      <td>24.416853</td>\n",
       "    </tr>\n",
       "    <tr>\n",
       "      <th>83</th>\n",
       "      <td>C92</td>\n",
       "      <td>tableau, sql, data analys, spreadsheets, data ...</td>\n",
       "      <td>2</td>\n",
       "      <td>{'south'}</td>\n",
       "      <td>13.351706</td>\n",
       "    </tr>\n",
       "  </tbody>\n",
       "</table>\n",
       "<p>84 rows × 5 columns</p>\n",
       "</div>"
      ],
      "text/plain": [
       "   Index                                           Skillset  Experience  \\\n",
       "0     C1  human resources hr, microsoft, strategic plann...           1   \n",
       "1     C2  market, vendor, strategic sourcing, product, b...           8   \n",
       "2     C3  leadership, research, team, data analys, stati...           2   \n",
       "3     C4                         c, linux, microsoft, excel           8   \n",
       "4     C5  excel, python, sql, project, analytics, model,...           1   \n",
       "..   ...                                                ...         ...   \n",
       "79   C88  dynamic, sme, interpersonal leadership, requir...           4   \n",
       "80   C89  analytics, business, sas, analytics, data ware...          14   \n",
       "81   C90  financ, team, business, financ, business, fina...          10   \n",
       "82   C91  data analys, data analys, python, project, hum...          11   \n",
       "83   C92  tableau, sql, data analys, spreadsheets, data ...           2   \n",
       "\n",
       "                                  Zone  Salary LR  \n",
       "0                             {'west'}   8.140180  \n",
       "1                            {'north'}  16.683021  \n",
       "2                    {'east', 'south'}   9.465278  \n",
       "3   {'north', 'east', 'west', 'south'}  20.766641  \n",
       "4   {'north', 'east', 'west', 'south'}  11.952706  \n",
       "..                                 ...        ...  \n",
       "79                            {'west'}   7.704403  \n",
       "80                           {'north'}  33.225480  \n",
       "81                            {'west'}  18.180636  \n",
       "82                           {'south'}  24.416853  \n",
       "83                           {'south'}  13.351706  \n",
       "\n",
       "[84 rows x 5 columns]"
      ]
     },
     "execution_count": 65,
     "metadata": {},
     "output_type": "execute_result"
    }
   ],
   "source": [
    "testdf"
   ]
  }
 ],
 "metadata": {
  "kernelspec": {
   "display_name": "Python 3",
   "language": "python",
   "name": "python3"
  },
  "language_info": {
   "codemirror_mode": {
    "name": "ipython",
    "version": 3
   },
   "file_extension": ".py",
   "mimetype": "text/x-python",
   "name": "python",
   "nbconvert_exporter": "python",
   "pygments_lexer": "ipython3",
   "version": "3.8.5"
  }
 },
 "nbformat": 4,
 "nbformat_minor": 4
}
