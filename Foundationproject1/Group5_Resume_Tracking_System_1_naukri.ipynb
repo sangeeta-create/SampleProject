{
 "cells": [
  {
   "cell_type": "markdown",
   "metadata": {},
   "source": [
    "# Group5_Resume_Tracking_System\n",
    "\n",
    "#### Anand Pratap Singh (12020084)\n",
    "#### Francis David Vuppuluri (12020028)\n",
    "#### Lavanya SN (12020075)\n",
    "#### Puneet Srivastava (12020026)\n",
    "#### Sangeeta Thakur (12020088)"
   ]
  },
  {
   "cell_type": "markdown",
   "metadata": {},
   "source": [
    "# Importing Libraries"
   ]
  },
  {
   "cell_type": "code",
   "execution_count": 1,
   "metadata": {},
   "outputs": [],
   "source": [
    "import requests\n",
    "from selenium import webdriver\n",
    "from bs4 import BeautifulSoup\n",
    "import time\n",
    "import pandas as pd\n",
    "import pickle\n",
    "\n",
    "# import pytest\n",
    "from selenium.webdriver import Chrome\n",
    "from selenium.webdriver.common.keys import Keys"
   ]
  },
  {
   "cell_type": "code",
   "execution_count": 2,
   "metadata": {},
   "outputs": [],
   "source": [
    "URL =\"https://www.naukri.com/jobs-in-pune\""
   ]
  },
  {
   "cell_type": "markdown",
   "metadata": {},
   "source": [
    "## Scrapping from URL and assigning it to list Job_pages"
   ]
  },
  {
   "cell_type": "code",
   "execution_count": 3,
   "metadata": {},
   "outputs": [],
   "source": [
    "# with open('naukriList.pkl', 'rb') as f:\n",
    "#     Job_Pages = pickle.load(f)"
   ]
  },
  {
   "cell_type": "code",
   "execution_count": 6,
   "metadata": {
    "scrolled": true
   },
   "outputs": [
    {
     "name": "stdout",
     "output_type": "stream",
     "text": [
      "2166 39113\n",
      "20\n",
      "2167 39133\n",
      "20\n",
      "2168 39153\n",
      "0\n",
      "2169 39153\n",
      "0\n",
      "2170 39153\n",
      "0\n",
      "2171 39153\n",
      "20\n",
      "2172 39173\n",
      "0\n",
      "2173 39173\n",
      "0\n",
      "2174 39173\n",
      "0\n",
      "2175 39173\n",
      "0\n",
      "2176 39173\n",
      "0\n",
      "2177 39173\n",
      "20\n",
      "2178 39193\n",
      "0\n",
      "2179 39193\n",
      "20\n",
      "2180 39213\n",
      "20\n",
      "2181 39233\n",
      "0\n",
      "2182 39233\n",
      "0\n",
      "2183 39233\n",
      "20\n",
      "2184 39253\n",
      "0\n",
      "2185 39253\n",
      "0\n",
      "2186 39253\n",
      "0\n",
      "2187 39253\n",
      "0\n",
      "2188 39253\n",
      "0\n",
      "2189 39253\n",
      "0\n",
      "2190 39253\n",
      "20\n",
      "2191 39273\n",
      "0\n",
      "2192 39273\n",
      "20\n",
      "2193 39293\n",
      "0\n",
      "2194 39293\n",
      "0\n",
      "2195 39293\n",
      "0\n",
      "2196 39293\n",
      "0\n",
      "2197 39293\n",
      "20\n",
      "2198 39313\n",
      "0\n",
      "2199 39313\n",
      "0\n"
     ]
    }
   ],
   "source": [
    "# Job_Pages =[]\n",
    "driver =  webdriver.Chrome('<driver ka path>')\n",
    "\n",
    "for i in range(,2000):\n",
    "    print(i, len(Job_Pages))\n",
    "    new_URL=URL+'-'+str(i)\n",
    "    page = requests.get(new_URL)\n",
    "    driver.get(new_URL)\n",
    "\n",
    "    time.sleep(1)\n",
    "    \n",
    "    soup = BeautifulSoup(driver.page_source,'html')\n",
    "\n",
    "    job_elems = soup.find_all('article', attrs={'class':'jobTuple bgWhite br4 mb-8'})\n",
    "    print(len(job_elems))\n",
    "    for i in job_elems:\n",
    "        \n",
    "        Job_Pages_Dict={}\n",
    "            \n",
    "        Job_Pages_Dict['Title'] = i.find('a', attrs = {'class':'title fw500 ellipsis'}).text\n",
    "        \n",
    "        Job_Pages_Dict['Company'] = i.find('a', attrs = {'class':'subTitle ellipsis fleft'}).text\n",
    "        \n",
    "        Job_Pages_Dict['Experience'] = i.find('span', attrs = {'class':'ellipsis fleft fs12 lh16'}).text\n",
    "\n",
    "        Job_Pages_Dict['Salary'] = i.find('li', attrs = {'class':'fleft grey-text br2 placeHolderLi salary'}).text\n",
    "\n",
    "        Job_Pages_Dict['Location'] = i.find('li', attrs = {'class':'fleft grey-text br2 placeHolderLi location'}).text\n",
    "\n",
    "        Job_Pages_Dict['Desc'] =i.find('div', attrs = {'class':'job-description fs12 grey-text'}).text   \n",
    "    \n",
    "        Skills = i.find_all('li', attrs = {'class':'fleft fs12 grey-text lh16 dot'})\n",
    "        Job_Pages_Dict['Skillset'] = [skill.text for skill in Skills]\n",
    "\n",
    "        Job_Pages.append(Job_Pages_Dict)\n",
    "    \n",
    "driver.close()"
   ]
  },
  {
   "cell_type": "code",
   "execution_count": 1,
   "metadata": {
    "collapsed": true
   },
   "outputs": [
    {
     "ename": "NameError",
     "evalue": "name 'pickle' is not defined",
     "output_type": "error",
     "traceback": [
      "\u001b[0;31m---------------------------------------------------------------------------\u001b[0m",
      "\u001b[0;31mNameError\u001b[0m                                 Traceback (most recent call last)",
      "\u001b[0;32m<ipython-input-1-65d826f4b61f>\u001b[0m in \u001b[0;36m<module>\u001b[0;34m\u001b[0m\n\u001b[1;32m      1\u001b[0m \u001b[0;32mwith\u001b[0m \u001b[0mopen\u001b[0m\u001b[0;34m(\u001b[0m\u001b[0;34m'naukriList.pkl'\u001b[0m\u001b[0;34m,\u001b[0m \u001b[0;34m'wb'\u001b[0m\u001b[0;34m)\u001b[0m \u001b[0;32mas\u001b[0m \u001b[0mf\u001b[0m\u001b[0;34m:\u001b[0m\u001b[0;34m\u001b[0m\u001b[0;34m\u001b[0m\u001b[0m\n\u001b[0;32m----> 2\u001b[0;31m     \u001b[0mpickle\u001b[0m\u001b[0;34m.\u001b[0m\u001b[0mdump\u001b[0m\u001b[0;34m(\u001b[0m\u001b[0mJob_Pages\u001b[0m\u001b[0;34m,\u001b[0m \u001b[0mf\u001b[0m\u001b[0;34m)\u001b[0m\u001b[0;34m\u001b[0m\u001b[0;34m\u001b[0m\u001b[0m\n\u001b[0m",
      "\u001b[0;31mNameError\u001b[0m: name 'pickle' is not defined"
     ]
    }
   ],
   "source": [
    "with open('naukriList.pkl', 'wb') as f:\n",
    "    pickle.dump(Job_Pages, f)"
   ]
  },
  {
   "cell_type": "markdown",
   "metadata": {},
   "source": [
    "## Create a dataaframe with a list of dictionaries, each dictionary contains information for a job opening"
   ]
  },
  {
   "cell_type": "code",
   "execution_count": 9,
   "metadata": {},
   "outputs": [],
   "source": [
    "Job_Desc = pd.DataFrame(Job_Pages)"
   ]
  },
  {
   "cell_type": "markdown",
   "metadata": {},
   "source": [
    "# Output"
   ]
  },
  {
   "cell_type": "code",
   "execution_count": 11,
   "metadata": {},
   "outputs": [
    {
     "data": {
      "text/html": [
       "<div>\n",
       "<style scoped>\n",
       "    .dataframe tbody tr th:only-of-type {\n",
       "        vertical-align: middle;\n",
       "    }\n",
       "\n",
       "    .dataframe tbody tr th {\n",
       "        vertical-align: top;\n",
       "    }\n",
       "\n",
       "    .dataframe thead th {\n",
       "        text-align: right;\n",
       "    }\n",
       "</style>\n",
       "<table border=\"1\" class=\"dataframe\">\n",
       "  <thead>\n",
       "    <tr style=\"text-align: right;\">\n",
       "      <th></th>\n",
       "      <th>Title</th>\n",
       "      <th>Company</th>\n",
       "      <th>Experience</th>\n",
       "      <th>Salary</th>\n",
       "      <th>Location</th>\n",
       "      <th>Desc</th>\n",
       "      <th>Skillset</th>\n",
       "    </tr>\n",
       "  </thead>\n",
       "  <tbody>\n",
       "    <tr>\n",
       "      <th>0</th>\n",
       "      <td>IOS Developer-Swift</td>\n",
       "      <td>CNB YOUR HR4U LLP</td>\n",
       "      <td>3-8 Yrs</td>\n",
       "      <td>3,00,000 - 8,00,000 PA.</td>\n",
       "      <td>Pune, Bangalore/Bengaluru, Mumbai (All Areas)</td>\n",
       "      <td>2-5+ years proven IOS app development experie...</td>\n",
       "      <td>[C++, Coding, Ios Development, Socket.Io, SQLi...</td>\n",
       "    </tr>\n",
       "    <tr>\n",
       "      <th>1</th>\n",
       "      <td>AWS Technical Project Manager- 12+ Years</td>\n",
       "      <td>Virtusa Consulting Services Pvt Ltd</td>\n",
       "      <td>12-18 Yrs</td>\n",
       "      <td>Not disclosed</td>\n",
       "      <td>Hyderabad/Secunderabad, Pune, Chennai, Bangalo...</td>\n",
       "      <td>Experience: 12+ Years Looking for Immediate /...</td>\n",
       "      <td>[data architecture, cloud migration, AWS cloud...</td>\n",
       "    </tr>\n",
       "    <tr>\n",
       "      <th>2</th>\n",
       "      <td>AWS Senior Cloud Engineer-5-9 Years</td>\n",
       "      <td>Virtusa Consulting Services Pvt Ltd</td>\n",
       "      <td>5-9 Yrs</td>\n",
       "      <td>7,00,000 - 17,00,000 PA.</td>\n",
       "      <td>Hyderabad/Secunderabad, Pune, Chennai, Bangalo...</td>\n",
       "      <td>Experience: 5-9 YearsLooking for only immedia...</td>\n",
       "      <td>[IT Skills, Cloud, DevOps, AWS, Druva, cloud e...</td>\n",
       "    </tr>\n",
       "    <tr>\n",
       "      <th>3</th>\n",
       "      <td>AWS Cloud Engineer- 3 To 5 Years</td>\n",
       "      <td>Virtusa Consulting Services Pvt Ltd</td>\n",
       "      <td>3-5 Yrs</td>\n",
       "      <td>Not disclosed</td>\n",
       "      <td>Kolkata, Hyderabad/Secunderabad, Pune, Ahmedab...</td>\n",
       "      <td>Experience: 3-5 yearsLooking only immediate /...</td>\n",
       "      <td>[AWS CloudEndure, AWS Migration Hub, AWS Cloud...</td>\n",
       "    </tr>\n",
       "    <tr>\n",
       "      <th>4</th>\n",
       "      <td>Information Security(Application security) Arc...</td>\n",
       "      <td>Virtusa Consulting Services Pvt Ltd</td>\n",
       "      <td>8-11 Yrs</td>\n",
       "      <td>Not disclosed</td>\n",
       "      <td>Kolkata, Hyderabad/Secunderabad, Pune, Ahmedab...</td>\n",
       "      <td>Experience: 8-11 YearsLocation :Pan IndiaLook...</td>\n",
       "      <td>[Cism, Threat Modelling, DAST, Maturity model,...</td>\n",
       "    </tr>\n",
       "    <tr>\n",
       "      <th>...</th>\n",
       "      <td>...</td>\n",
       "      <td>...</td>\n",
       "      <td>...</td>\n",
       "      <td>...</td>\n",
       "      <td>...</td>\n",
       "      <td>...</td>\n",
       "      <td>...</td>\n",
       "    </tr>\n",
       "    <tr>\n",
       "      <th>39308</th>\n",
       "      <td>VIrtual Hiring ! Apply from Anywhere In \"India\"</td>\n",
       "      <td>Intelenet Global Services Private Limited</td>\n",
       "      <td>0-5 Yrs</td>\n",
       "      <td>1,00,000 - 1,50,000 PA.</td>\n",
       "      <td>Kolkata, Hyderabad/Secunderabad, Pune, Ahmedab...</td>\n",
       "      <td>Work From Home Wifi / internet dongal with mi...</td>\n",
       "      <td>[]</td>\n",
       "    </tr>\n",
       "    <tr>\n",
       "      <th>39309</th>\n",
       "      <td>AWS Hybrid Cloud Architect</td>\n",
       "      <td>Virtusa Consulting Services Pvt Ltd</td>\n",
       "      <td>9-14 Yrs</td>\n",
       "      <td>Not disclosed</td>\n",
       "      <td>Pune, Bangalore/Bengaluru, Chennai, Hyderabad</td>\n",
       "      <td>AWS Hybrid Cloud Architect1. We are looking f...</td>\n",
       "      <td>[]</td>\n",
       "    </tr>\n",
       "    <tr>\n",
       "      <th>39310</th>\n",
       "      <td>5G Solution Architect</td>\n",
       "      <td>Virtusa Consulting Services Pvt Ltd</td>\n",
       "      <td>9-14 Yrs</td>\n",
       "      <td>Not disclosed</td>\n",
       "      <td>Pune, Chennai, Bangalore/Bengaluru, Hyderabad</td>\n",
       "      <td>Deep understanding of key Technology topics i...</td>\n",
       "      <td>[]</td>\n",
       "    </tr>\n",
       "    <tr>\n",
       "      <th>39311</th>\n",
       "      <td>Customer Care Executive - Pune</td>\n",
       "      <td>Intelenet Global Services Private Limited</td>\n",
       "      <td>0-2 Yrs</td>\n",
       "      <td>50,000 - 1,75,000 PA.</td>\n",
       "      <td>Hyderabad/Secunderabad, Pune, Ahmedabad, Banga...</td>\n",
       "      <td>PERMANENT WORK FROM HOME24x7 rotational Shift...</td>\n",
       "      <td>[]</td>\n",
       "    </tr>\n",
       "    <tr>\n",
       "      <th>39312</th>\n",
       "      <td>JAVA Apigee Developer</td>\n",
       "      <td>Virtusa Consulting Services Pvt Ltd</td>\n",
       "      <td>3-8 Yrs</td>\n",
       "      <td>Not disclosed</td>\n",
       "      <td>Pune, Chennai, Bangalore/Bengaluru</td>\n",
       "      <td>Someone who also has a good knowledge of Open...</td>\n",
       "      <td>[]</td>\n",
       "    </tr>\n",
       "  </tbody>\n",
       "</table>\n",
       "<p>39313 rows × 7 columns</p>\n",
       "</div>"
      ],
      "text/plain": [
       "                                                   Title  \\\n",
       "0                                    IOS Developer-Swift   \n",
       "1               AWS Technical Project Manager- 12+ Years   \n",
       "2                    AWS Senior Cloud Engineer-5-9 Years   \n",
       "3                       AWS Cloud Engineer- 3 To 5 Years   \n",
       "4      Information Security(Application security) Arc...   \n",
       "...                                                  ...   \n",
       "39308    VIrtual Hiring ! Apply from Anywhere In \"India\"   \n",
       "39309                         AWS Hybrid Cloud Architect   \n",
       "39310                              5G Solution Architect   \n",
       "39311                     Customer Care Executive - Pune   \n",
       "39312                              JAVA Apigee Developer   \n",
       "\n",
       "                                         Company Experience  \\\n",
       "0                            CNB YOUR HR4U LLP      3-8 Yrs   \n",
       "1            Virtusa Consulting Services Pvt Ltd  12-18 Yrs   \n",
       "2            Virtusa Consulting Services Pvt Ltd    5-9 Yrs   \n",
       "3            Virtusa Consulting Services Pvt Ltd    3-5 Yrs   \n",
       "4            Virtusa Consulting Services Pvt Ltd   8-11 Yrs   \n",
       "...                                          ...        ...   \n",
       "39308  Intelenet Global Services Private Limited    0-5 Yrs   \n",
       "39309        Virtusa Consulting Services Pvt Ltd   9-14 Yrs   \n",
       "39310        Virtusa Consulting Services Pvt Ltd   9-14 Yrs   \n",
       "39311  Intelenet Global Services Private Limited    0-2 Yrs   \n",
       "39312        Virtusa Consulting Services Pvt Ltd    3-8 Yrs   \n",
       "\n",
       "                         Salary  \\\n",
       "0       3,00,000 - 8,00,000 PA.   \n",
       "1                 Not disclosed   \n",
       "2      7,00,000 - 17,00,000 PA.   \n",
       "3                 Not disclosed   \n",
       "4                 Not disclosed   \n",
       "...                         ...   \n",
       "39308   1,00,000 - 1,50,000 PA.   \n",
       "39309             Not disclosed   \n",
       "39310             Not disclosed   \n",
       "39311     50,000 - 1,75,000 PA.   \n",
       "39312             Not disclosed   \n",
       "\n",
       "                                                Location  \\\n",
       "0          Pune, Bangalore/Bengaluru, Mumbai (All Areas)   \n",
       "1      Hyderabad/Secunderabad, Pune, Chennai, Bangalo...   \n",
       "2      Hyderabad/Secunderabad, Pune, Chennai, Bangalo...   \n",
       "3      Kolkata, Hyderabad/Secunderabad, Pune, Ahmedab...   \n",
       "4      Kolkata, Hyderabad/Secunderabad, Pune, Ahmedab...   \n",
       "...                                                  ...   \n",
       "39308  Kolkata, Hyderabad/Secunderabad, Pune, Ahmedab...   \n",
       "39309      Pune, Bangalore/Bengaluru, Chennai, Hyderabad   \n",
       "39310      Pune, Chennai, Bangalore/Bengaluru, Hyderabad   \n",
       "39311  Hyderabad/Secunderabad, Pune, Ahmedabad, Banga...   \n",
       "39312                 Pune, Chennai, Bangalore/Bengaluru   \n",
       "\n",
       "                                                    Desc  \\\n",
       "0       2-5+ years proven IOS app development experie...   \n",
       "1       Experience: 12+ Years Looking for Immediate /...   \n",
       "2       Experience: 5-9 YearsLooking for only immedia...   \n",
       "3       Experience: 3-5 yearsLooking only immediate /...   \n",
       "4       Experience: 8-11 YearsLocation :Pan IndiaLook...   \n",
       "...                                                  ...   \n",
       "39308   Work From Home Wifi / internet dongal with mi...   \n",
       "39309   AWS Hybrid Cloud Architect1. We are looking f...   \n",
       "39310   Deep understanding of key Technology topics i...   \n",
       "39311   PERMANENT WORK FROM HOME24x7 rotational Shift...   \n",
       "39312   Someone who also has a good knowledge of Open...   \n",
       "\n",
       "                                                Skillset  \n",
       "0      [C++, Coding, Ios Development, Socket.Io, SQLi...  \n",
       "1      [data architecture, cloud migration, AWS cloud...  \n",
       "2      [IT Skills, Cloud, DevOps, AWS, Druva, cloud e...  \n",
       "3      [AWS CloudEndure, AWS Migration Hub, AWS Cloud...  \n",
       "4      [Cism, Threat Modelling, DAST, Maturity model,...  \n",
       "...                                                  ...  \n",
       "39308                                                 []  \n",
       "39309                                                 []  \n",
       "39310                                                 []  \n",
       "39311                                                 []  \n",
       "39312                                                 []  \n",
       "\n",
       "[39313 rows x 7 columns]"
      ]
     },
     "execution_count": 11,
     "metadata": {},
     "output_type": "execute_result"
    }
   ],
   "source": [
    "Job_Desc"
   ]
  },
  {
   "cell_type": "markdown",
   "metadata": {},
   "source": [
    "# Exporting to Excel"
   ]
  },
  {
   "cell_type": "code",
   "execution_count": null,
   "metadata": {},
   "outputs": [],
   "source": [
    "Job_Desc.to_excel('Output_Check_1.xlsx')"
   ]
  },
  {
   "cell_type": "code",
   "execution_count": null,
   "metadata": {},
   "outputs": [],
   "source": [
    "type(Job_Desc)"
   ]
  },
  {
   "cell_type": "code",
   "execution_count": 13,
   "metadata": {},
   "outputs": [
    {
     "data": {
      "text/plain": [
       "Title         7996\n",
       "Company       7996\n",
       "Experience    7996\n",
       "Salary        7996\n",
       "Location      7996\n",
       "Desc          7996\n",
       "Skillset      7996\n",
       "dtype: int64"
      ]
     },
     "execution_count": 13,
     "metadata": {},
     "output_type": "execute_result"
    }
   ],
   "source": [
    "Job_Desc[Job_Desc['Salary'] != 'Not disclosed'].count()"
   ]
  }
 ],
 "metadata": {
  "kernelspec": {
   "display_name": "Python 3",
   "language": "python",
   "name": "python3"
  },
  "language_info": {
   "codemirror_mode": {
    "name": "ipython",
    "version": 3
   },
   "file_extension": ".py",
   "mimetype": "text/x-python",
   "name": "python",
   "nbconvert_exporter": "python",
   "pygments_lexer": "ipython3",
   "version": "3.8.5"
  }
 },
 "nbformat": 4,
 "nbformat_minor": 4
}
